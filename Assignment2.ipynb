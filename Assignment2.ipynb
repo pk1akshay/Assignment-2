{
 "cells": [
  {
   "cell_type": "markdown",
   "metadata": {},
   "source": [
    "## BigData Assignment-2"
   ]
  },
  {
   "cell_type": "markdown",
   "metadata": {},
   "source": [
    "### Import the relevant packages"
   ]
  },
  {
   "cell_type": "code",
   "execution_count": 14,
   "metadata": {},
   "outputs": [],
   "source": [
    "import pandas as pd\n",
    "from cassandra.cluster import Cluster"
   ]
  },
  {
   "cell_type": "markdown",
   "metadata": {},
   "source": [
    "### Create a session connection to Cassandra cluster"
   ]
  },
  {
   "cell_type": "code",
   "execution_count": 15,
   "metadata": {},
   "outputs": [],
   "source": [
    "clstr = Cluster()\n",
    "session = clstr.connect()"
   ]
  },
  {
   "cell_type": "markdown",
   "metadata": {},
   "source": [
    "### Use session to 'talk' to cassandra"
   ]
  },
  {
   "cell_type": "code",
   "execution_count": 16,
   "metadata": {},
   "outputs": [
    {
     "data": {
      "text/plain": [
       "<cassandra.cluster.ResultSet at 0x7f4ec941a010>"
      ]
     },
     "execution_count": 16,
     "metadata": {},
     "output_type": "execute_result"
    }
   ],
   "source": [
    "session.execute(\"DROP KEYSPACE IF EXISTS m14\")"
   ]
  },
  {
   "cell_type": "markdown",
   "metadata": {},
   "source": [
    "### Iterate through the results and print the names of the keyspaces.\n"
   ]
  },
  {
   "cell_type": "code",
   "execution_count": 17,
   "metadata": {},
   "outputs": [
    {
     "name": "stdout",
     "output_type": "stream",
     "text": [
      "system\n",
      "system_auth\n",
      "system_distributed\n",
      "system_schema\n",
      "system_traces\n",
      "system_views\n",
      "system_virtual_schema\n",
      "w04python\n"
     ]
    }
   ],
   "source": [
    "rows = session.execute(\"desc keyspaces\")\n",
    "for row in rows:\n",
    "    print(f\"{row[0]}\")"
   ]
  },
  {
   "cell_type": "code",
   "execution_count": 18,
   "metadata": {},
   "outputs": [
    {
     "data": {
      "text/plain": [
       "<cassandra.cluster.ResultSet at 0x7f4ec940a610>"
      ]
     },
     "execution_count": 18,
     "metadata": {},
     "output_type": "execute_result"
    }
   ],
   "source": [
    "session.execute(\"CREATE KEYSPACE IF NOT EXISTS m14 WITH REPLICATION = {'class':'SimpleStrategy', 'replication_factor':2}\")"
   ]
  },
  {
   "cell_type": "code",
   "execution_count": 19,
   "metadata": {},
   "outputs": [
    {
     "name": "stdout",
     "output_type": "stream",
     "text": [
      "m14\n",
      "system\n",
      "system_auth\n",
      "system_distributed\n",
      "system_schema\n",
      "system_traces\n",
      "system_views\n",
      "system_virtual_schema\n",
      "w04python\n"
     ]
    }
   ],
   "source": [
    "rows = session.execute(\"desc keyspaces\")\n",
    "for row in rows:\n",
    "    print(f\"{row[0]}\")"
   ]
  },
  {
   "cell_type": "markdown",
   "metadata": {},
   "source": [
    "### Creating the inventory table"
   ]
  },
  {
   "cell_type": "code",
   "execution_count": 20,
   "metadata": {},
   "outputs": [
    {
     "data": {
      "text/plain": [
       "<cassandra.cluster.ResultSet at 0x7f4ec940aed0>"
      ]
     },
     "execution_count": 20,
     "metadata": {},
     "output_type": "execute_result"
    }
   ],
   "source": [
    "session.execute(\"\"\"\n",
    "CREATE TABLE IF NOT EXISTS m14.inventory ( \n",
    "    sku VARCHAR, \n",
    "    name TEXT, \n",
    "    description TEXT, \n",
    "    warehouse_num INT,\n",
    "    PRIMARY KEY(sku,name)\n",
    ");\n",
    "\"\"\")"
   ]
  },
  {
   "cell_type": "markdown",
   "metadata": {},
   "source": [
    "### Load the data"
   ]
  },
  {
   "cell_type": "code",
   "execution_count": 21,
   "metadata": {},
   "outputs": [
    {
     "data": {
      "text/html": [
       "<div>\n",
       "<style scoped>\n",
       "    .dataframe tbody tr th:only-of-type {\n",
       "        vertical-align: middle;\n",
       "    }\n",
       "\n",
       "    .dataframe tbody tr th {\n",
       "        vertical-align: top;\n",
       "    }\n",
       "\n",
       "    .dataframe thead th {\n",
       "        text-align: right;\n",
       "    }\n",
       "</style>\n",
       "<table border=\"1\" class=\"dataframe\">\n",
       "  <thead>\n",
       "    <tr style=\"text-align: right;\">\n",
       "      <th></th>\n",
       "      <th>sku</th>\n",
       "      <th>name</th>\n",
       "      <th>description</th>\n",
       "      <th>warehouse_num</th>\n",
       "    </tr>\n",
       "  </thead>\n",
       "  <tbody>\n",
       "    <tr>\n",
       "      <th>0</th>\n",
       "      <td>'UGG-BB-PUR-01'</td>\n",
       "      <td>'Food'</td>\n",
       "      <td>'This is the foremost important thing'</td>\n",
       "      <td>123</td>\n",
       "    </tr>\n",
       "    <tr>\n",
       "      <th>1</th>\n",
       "      <td>'UGG-BB-PUR-02'</td>\n",
       "      <td>'Accessories'</td>\n",
       "      <td>'This needs to be stocked'</td>\n",
       "      <td>123</td>\n",
       "    </tr>\n",
       "    <tr>\n",
       "      <th>2</th>\n",
       "      <td>'UGG-BB-PUR-03'</td>\n",
       "      <td>'Electronics'</td>\n",
       "      <td>'More of the new stock is coming'</td>\n",
       "      <td>212</td>\n",
       "    </tr>\n",
       "    <tr>\n",
       "      <th>3</th>\n",
       "      <td>'UGG-BB-PUR-04'</td>\n",
       "      <td>'Cosmetics'</td>\n",
       "      <td>'Need to be handled with care'</td>\n",
       "      <td>345</td>\n",
       "    </tr>\n",
       "    <tr>\n",
       "      <th>4</th>\n",
       "      <td>'UGG-BB-PUR-05'</td>\n",
       "      <td>'Stationary'</td>\n",
       "      <td>'Does not accomodate much space'</td>\n",
       "      <td>123</td>\n",
       "    </tr>\n",
       "    <tr>\n",
       "      <th>5</th>\n",
       "      <td>'UGG-BB-PUR-06'</td>\n",
       "      <td>'Furniture'</td>\n",
       "      <td>'Accomodates more space'</td>\n",
       "      <td>432</td>\n",
       "    </tr>\n",
       "    <tr>\n",
       "      <th>6</th>\n",
       "      <td>'UGG-BB-PUR-07'</td>\n",
       "      <td>'Perfumes'</td>\n",
       "      <td>'This needs more packaging'</td>\n",
       "      <td>212</td>\n",
       "    </tr>\n",
       "  </tbody>\n",
       "</table>\n",
       "</div>"
      ],
      "text/plain": [
       "               sku           name                             description  \\\n",
       "0  'UGG-BB-PUR-01'         'Food'  'This is the foremost important thing'   \n",
       "1  'UGG-BB-PUR-02'  'Accessories'              'This needs to be stocked'   \n",
       "2  'UGG-BB-PUR-03'  'Electronics'       'More of the new stock is coming'   \n",
       "3  'UGG-BB-PUR-04'    'Cosmetics'          'Need to be handled with care'   \n",
       "4  'UGG-BB-PUR-05'   'Stationary'        'Does not accomodate much space'   \n",
       "5  'UGG-BB-PUR-06'    'Furniture'                'Accomodates more space'   \n",
       "6  'UGG-BB-PUR-07'     'Perfumes'             'This needs more packaging'   \n",
       "\n",
       "   warehouse_num  \n",
       "0            123  \n",
       "1            123  \n",
       "2            212  \n",
       "3            345  \n",
       "4            123  \n",
       "5            432  \n",
       "6            212  "
      ]
     },
     "execution_count": 21,
     "metadata": {},
     "output_type": "execute_result"
    }
   ],
   "source": [
    "df = pd.read_csv('m14.csv')\n",
    "df"
   ]
  },
  {
   "cell_type": "code",
   "execution_count": 22,
   "metadata": {},
   "outputs": [
    {
     "name": "stdout",
     "output_type": "stream",
     "text": [
      "sku = 'UGG-BB-PUR-01', name =0, description = 'This is the foremost important thing', warehouse_num = 123\n",
      "sku = 'UGG-BB-PUR-02', name =1, description = 'This needs to be stocked', warehouse_num = 123\n",
      "sku = 'UGG-BB-PUR-03', name =2, description = 'More of the new stock is coming', warehouse_num = 212\n",
      "sku = 'UGG-BB-PUR-04', name =3, description = 'Need to be handled with care', warehouse_num = 345\n",
      "sku = 'UGG-BB-PUR-05', name =4, description = 'Does not accomodate much space', warehouse_num = 123\n",
      "sku = 'UGG-BB-PUR-06', name =5, description = 'Accomodates more space', warehouse_num = 432\n",
      "sku = 'UGG-BB-PUR-07', name =6, description = 'This needs more packaging', warehouse_num = 212\n"
     ]
    }
   ],
   "source": [
    "for index, row in df.iterrows():\n",
    "    print(f\"sku = {row.sku}, name ={row.name}, description = {row.description}, warehouse_num = {row.warehouse_num}\");"
   ]
  },
  {
   "cell_type": "markdown",
   "metadata": {},
   "source": [
    "### Insert the values into the table"
   ]
  },
  {
   "cell_type": "code",
   "execution_count": 23,
   "metadata": {},
   "outputs": [
    {
     "name": "stdout",
     "output_type": "stream",
     "text": [
      "\n",
      "        INSERT INTO m14.inventory (sku, name, description, warehouse_num)     \n",
      "        VALUES ('UGG-BB-PUR-01', 'Food', 'This is the foremost important thing', 123);\n",
      "        \n",
      "\n",
      "        INSERT INTO m14.inventory (sku, name, description, warehouse_num)     \n",
      "        VALUES ('UGG-BB-PUR-02', 'Accessories', 'This needs to be stocked', 123);\n",
      "        \n",
      "\n",
      "        INSERT INTO m14.inventory (sku, name, description, warehouse_num)     \n",
      "        VALUES ('UGG-BB-PUR-03', 'Electronics', 'More of the new stock is coming', 212);\n",
      "        \n",
      "\n",
      "        INSERT INTO m14.inventory (sku, name, description, warehouse_num)     \n",
      "        VALUES ('UGG-BB-PUR-04', 'Cosmetics', 'Need to be handled with care', 345);\n",
      "        \n",
      "\n",
      "        INSERT INTO m14.inventory (sku, name, description, warehouse_num)     \n",
      "        VALUES ('UGG-BB-PUR-05', 'Stationary', 'Does not accomodate much space', 123);\n",
      "        \n",
      "\n",
      "        INSERT INTO m14.inventory (sku, name, description, warehouse_num)     \n",
      "        VALUES ('UGG-BB-PUR-06', 'Furniture', 'Accomodates more space', 432);\n",
      "        \n",
      "\n",
      "        INSERT INTO m14.inventory (sku, name, description, warehouse_num)     \n",
      "        VALUES ('UGG-BB-PUR-07', 'Perfumes', 'This needs more packaging', 212);\n",
      "        \n"
     ]
    }
   ],
   "source": [
    "for index, row in df.iterrows():\n",
    "    print(f\"\"\"\n",
    "        INSERT INTO m14.inventory (sku, name, description, warehouse_num)     \n",
    "        VALUES ({row[0]}, {row[1]}, {row[2]}, {row[3]});\n",
    "        \"\"\"\n",
    "       )\n",
    "    session.execute(f\"\"\"\n",
    "        INSERT INTO m14.inventory (sku, name, description, warehouse_num)     \n",
    "        VALUES ({row[0]}, {row[1]}, {row[2]}, {row[3]});\n",
    "        \"\"\"\n",
    "       )"
   ]
  },
  {
   "cell_type": "markdown",
   "metadata": {},
   "source": [
    "### Executing the below query without creating Index variable"
   ]
  },
  {
   "cell_type": "code",
   "execution_count": 24,
   "metadata": {},
   "outputs": [
    {
     "ename": "InvalidRequest",
     "evalue": "Error from server: code=2200 [Invalid query] message=\"Cannot execute this query as it might involve data filtering and thus may have unpredictable performance. If you want to execute this query despite the performance unpredictability, use ALLOW FILTERING\"",
     "output_type": "error",
     "traceback": [
      "\u001b[0;31m---------------------------------------------------------------------------\u001b[0m",
      "\u001b[0;31mInvalidRequest\u001b[0m                            Traceback (most recent call last)",
      "Cell \u001b[0;32mIn[24], line 1\u001b[0m\n\u001b[0;32m----> 1\u001b[0m rows \u001b[39m=\u001b[39m session\u001b[39m.\u001b[39;49mexecute(\u001b[39m\"\u001b[39;49m\u001b[39mselect name from m14.inventory where warehouse_num = 123\u001b[39;49m\u001b[39m\"\u001b[39;49m)\n\u001b[1;32m      2\u001b[0m \u001b[39mfor\u001b[39;00m row \u001b[39min\u001b[39;00m rows:\n\u001b[1;32m      3\u001b[0m     \u001b[39mprint\u001b[39m(\u001b[39mf\u001b[39m\u001b[39m\"\u001b[39m\u001b[39m{\u001b[39;00mrow[\u001b[39m0\u001b[39m]\u001b[39m}\u001b[39;00m\u001b[39m\"\u001b[39m)\n",
      "File \u001b[0;32m~/miniconda3/envs/bd/lib/python3.11/site-packages/cassandra/cluster.py:2618\u001b[0m, in \u001b[0;36mcassandra.cluster.Session.execute\u001b[0;34m()\u001b[0m\n",
      "File \u001b[0;32m~/miniconda3/envs/bd/lib/python3.11/site-packages/cassandra/cluster.py:4894\u001b[0m, in \u001b[0;36mcassandra.cluster.ResponseFuture.result\u001b[0;34m()\u001b[0m\n",
      "\u001b[0;31mInvalidRequest\u001b[0m: Error from server: code=2200 [Invalid query] message=\"Cannot execute this query as it might involve data filtering and thus may have unpredictable performance. If you want to execute this query despite the performance unpredictability, use ALLOW FILTERING\""
     ]
    }
   ],
   "source": [
    "rows = session.execute(\"select name from m14.inventory where warehouse_num = 123\")\n",
    "for row in rows:\n",
    "    print(f\"{row[0]}\")"
   ]
  },
  {
   "cell_type": "markdown",
   "metadata": {},
   "source": [
    "### Creating the index variable on the warehouse_num column"
   ]
  },
  {
   "cell_type": "code",
   "execution_count": null,
   "metadata": {},
   "outputs": [
    {
     "data": {
      "text/plain": [
       "<cassandra.cluster.ResultSet at 0x7fc6509a2c90>"
      ]
     },
     "execution_count": 12,
     "metadata": {},
     "output_type": "execute_result"
    }
   ],
   "source": [
    "session.execute(f\"\"\"\n",
    "        CREATE INDEX IF NOT EXISTS warehouse\n",
    "ON m14.inventory ( warehouse_num );\n",
    "        \"\"\")\n"
   ]
  },
  {
   "cell_type": "code",
   "execution_count": null,
   "metadata": {},
   "outputs": [
    {
     "name": "stdout",
     "output_type": "stream",
     "text": [
      "Accessories\n",
      "Food\n",
      "Stationary\n"
     ]
    }
   ],
   "source": [
    "rows = session.execute(\"select name from m14.inventory where warehouse_num = 123\")\n",
    "for row in rows:\n",
    "    print(f\"{row[0]}\")"
   ]
  }
 ],
 "metadata": {
  "kernelspec": {
   "display_name": "bd",
   "language": "python",
   "name": "python3"
  },
  "language_info": {
   "codemirror_mode": {
    "name": "ipython",
    "version": 3
   },
   "file_extension": ".py",
   "mimetype": "text/x-python",
   "name": "python",
   "nbconvert_exporter": "python",
   "pygments_lexer": "ipython3",
   "version": "3.11.4"
  },
  "orig_nbformat": 4
 },
 "nbformat": 4,
 "nbformat_minor": 2
}
